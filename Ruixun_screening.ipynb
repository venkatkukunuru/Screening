{
 "cells": [
  {
   "cell_type": "code",
   "execution_count": 4,
   "metadata": {},
   "outputs": [],
   "source": [
    "import numpy as np\n",
    "import math\n",
    "import matplotlib.pyplot as plt\n",
    "get_ipython().run_line_magic('matplotlib', 'inline')"
   ]
  },
  {
   "cell_type": "code",
   "execution_count": 72,
   "metadata": {},
   "outputs": [],
   "source": [
    "''' Drawing parabola given focus and diectrix values in any direction'''\n",
    "def focus_directrix(focus, directrix, vertical = True):\n",
    "\n",
    "    a = focus[0];\n",
    "    b = focus[1];    \n",
    "    \n",
    "    n= 150;\n",
    "    \n",
    "    if vertical :\n",
    "        k =  (b + directrix)/2;\n",
    "        p =  (b - directrix)*2;\n",
    "        x = np.linspace(-2*20,2*18,n)\n",
    "        y = np.array([(1/p)*(x1-a)**2 + k for x1 in x])\n",
    "        ## plot focul length\n",
    "        fx = np.linspace(k-10,k+10,n)\n",
    "        fy = np.array([directrix]*n)\n",
    "        plt.plot(x,fy,'lime')\n",
    "    else :\n",
    "        k =  (a + directrix)/2;\n",
    "        p =  (a - directrix)*2;\n",
    "        y = np.linspace(-2*20,2*18,n)\n",
    "        x = np.array([(1/p)*(y1-b)**2 + k for y1 in y])\n",
    "        ## plot focul length\n",
    "        fy = np.linspace(k-10,k+10,n)\n",
    "        fx = np.array([directrix]*n)\n",
    "        plt.plot(fx,y,'lime')\n",
    "        \n",
    "    plt.plot(x, y,'crimson')\n",
    "    \n",
    "    "
   ]
  },
  {
   "cell_type": "code",
   "execution_count": 73,
   "metadata": {},
   "outputs": [],
   "source": [
    "''' Drawing rotated parabola given focus and diectrix values in any direction'''\n",
    "def rotated_parabole(focus, vertex):\n",
    "\n",
    "    distance = math.sqrt(pow(vx - fx, 2) + pow(vy - fy, 2))\n",
    "\n",
    "    phi = np.arctan2(abs(vy- fy),abs(vx- fx))\n",
    "    \n",
    "    if fx < vx and fy > vy:\n",
    "        theta = phi\n",
    "    elif fx < vx and fy < vy:\n",
    "        theta = np.pi - phi\n",
    "    elif fx > vx and fy > vy:\n",
    "        theta = -phi\n",
    "    elif fx > vx and fy < vy:\n",
    "        theta = phi - np.pi\n",
    "    \n",
    "    print('angle is {}'.format(theta*180/np.pi))\n",
    "    \n",
    "    t = np.linspace(-15, 15, 1000)\n",
    "    t_2 = ((t - vx) * (t - vx)/(4*distance) + vy)\n",
    "    y_original = ((t - vx) * (t - vx)/(4*distance) + vy)\n",
    "    x_5 = t * np.cos(theta) - t_2 * np.sin(theta)\n",
    "    y_5 = t * np.sin(theta) + t_2 * np.cos(theta)\n",
    "    plt.plot(t, y_original)\n",
    "    plt.plot(x_5, y_5)"
   ]
  },
  {
   "cell_type": "code",
   "execution_count": 74,
   "metadata": {},
   "outputs": [],
   "source": [
    "''' Drawing parabola given focus and diectrix values in any direction'''\n",
    "def focus_vertex(focus, vertex):\n",
    "\n",
    "    fx = focus[0];\n",
    "    fy = focus[1];\n",
    "    \n",
    "    vx = vertex[0]\n",
    "    vy = vertex[1]\n",
    "    \n",
    "    if vx == fx and vy == fy:\n",
    "        print('Both vertex and Focus cannot be same')\n",
    "        return False\n",
    "    \n",
    "    distance = math.sqrt(pow(vx - fx, 2) + pow(vy - fy, 2))\n",
    "\n",
    "    x = np.linspace(-15, 15, 1000)\n",
    "    y = np.linspace(-15, 15, 1000)\n",
    "    if vx == fx and vy < fy:\n",
    "        y = (x - vx) * (x - vx)/(4*distance) + vy\n",
    "    elif vx == fx and vy > fy:\n",
    "        y = - (x - vx) * (x - vx)/(4*distance) + vy\n",
    "    elif vy == fy and vx < fx:\n",
    "        x = (y - vy) * (y - vy)/(4*distance) + vx\n",
    "    elif vy == fy and vx > fx:\n",
    "        x = - (y - vy) * (y - vy)/(4*distance) + vx\n",
    "    else :\n",
    "        rotated_parabole(focus, vertex)\n",
    "        return True\n",
    "    \n",
    "    plt.plot(x, y)\n"
   ]
  },
  {
   "cell_type": "markdown",
   "metadata": {},
   "source": [
    "# Ref : https://www.youtube.com/watch?v=Xuj8gY6He5w"
   ]
  },
  {
   "cell_type": "code",
   "execution_count": 75,
   "metadata": {},
   "outputs": [],
   "source": [
    "''' Drawing ellipse given foci and major axis distance in any direction'''\n",
    "def draw_ellipse(focus1, focus2, distance):\n",
    "\n",
    "    a1 = focus1[0];\n",
    "    b1 = focus1[1];\n",
    "    \n",
    "    a2 = focus2[0]\n",
    "    b2 = focus2[1]\n",
    "    \n",
    "    a = distance/2\n",
    "        \n",
    "    h = (a1 + a2) / 2\n",
    "    k = (b1 + b2) / 2\n",
    "    f = np.sqrt((a1 - h)**2 + (b1 - k)**2)\n",
    "\n",
    "    if a**2 - f**2 < 0:\n",
    "        print(\"please input a valid major-axis distance value\")\n",
    "        return False\n",
    "    b = np.sqrt(a**2 - f**2)\n",
    "\n",
    "    phi = np.arctan2((b2 - b1), (a2 - a1))\n",
    "    t = np.linspace(0, 2*np.pi, 1000)\n",
    "    x = h + a * np.cos(t) * np.cos(phi) - b * np.sin(t) * np.sin(phi)\n",
    "    y = k + a * np.cos(t) * np.sin(phi) + b * np.sin(t) * np.cos(phi)\n",
    "    # Plot ellipse\n",
    "    plt.plot(x, y)\n",
    "    # Show foci\n",
    "    point_x, point_y = [[a1, a2]], [[b1, b2]]\n",
    "    for i in range(len(point_x)):\n",
    "        plt.plot(point_x[i], point_y[i], linewidth=1.0, linestyle='--')\n",
    "        plt.scatter(point_x[i], point_y[i], color='black')\n"
   ]
  },
  {
   "cell_type": "code",
   "execution_count": 76,
   "metadata": {},
   "outputs": [],
   "source": [
    "def ellipse(num, foci):\n",
    "    if num != len(foci) :\n",
    "        print(\"please pass {} sets of focus\" .format(num))\n",
    "        return False\n",
    "    \n",
    "    for i in range(0, num):\n",
    "        a1 = foci[i][0]\n",
    "        b1 = foci[i][1]\n",
    "        a2 = foci[i][2]\n",
    "        b2 = foci[i][3]\n",
    "        distance = foci[i][4]\n",
    "        draw_ellipse([a1, b1], [a2, b2], distance)"
   ]
  },
  {
   "cell_type": "code",
   "execution_count": 78,
   "metadata": {},
   "outputs": [
    {
     "data": {
      "image/png": "[encoded data removed]",
      "text/plain": [
       "<Figure size 432x288 with 1 Axes>"
      ]
     },
     "metadata": {
      "needs_background": "light"
     },
     "output_type": "display_data"
    }
   ],
   "source": [
    "if __name__ == '__main__':    \n",
    "    \n",
    "    plt.grid()    \n",
    "    \n",
    "    focus = [0, -math.sqrt(50)]\n",
    "    vertex = [0, 0]\n",
    "    directrix = 2\n",
    "    vertical = False\n",
    "    if focus == None :\n",
    "        print(\"Need to assign focus values, Focus is a required parameter\")\n",
    "    elif vertex != None :\n",
    "        focus_vertex(focus, vertex)\n",
    "    elif directrix != None :\n",
    "        focus_directrix(focus, directrix, vertical)\n",
    "        \n",
    "    # number of ellipses\n",
    "    num = 1\n",
    "    # array of focus along with major axis distance ex : [[a1, b1, a2, b2, distance]]\n",
    "    foci_points = [[0,1,4,1,6]]\n",
    "    ellipse(1, [[0,1,4,1,6]])"
   ]
  },
  {
   "cell_type": "code",
   "execution_count": null,
   "metadata": {},
   "outputs": [],
   "source": []
  }
 ],
 "metadata": {
  "kernelspec": {
   "display_name": "Python 2",
   "language": "python",
   "name": "python2"
  },
  "language_info": {
   "codemirror_mode": {
    "name": "ipython",
    "version": 2
   },
   "file_extension": ".py",
   "mimetype": "text/x-python",
   "name": "python",
   "nbconvert_exporter": "python",
   "pygments_lexer": "ipython2",
   "version": "2.7.15"
  }
 },
 "nbformat": 4,
 "nbformat_minor": 2
}
